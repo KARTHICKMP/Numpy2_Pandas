{
 "cells": [
  {
   "cell_type": "markdown",
   "metadata": {},
   "source": [
    "# Create a DatetimeIndex that contains each business day of 2015 and use it to index a Series of random numbers."
   ]
  },
  {
   "cell_type": "code",
   "execution_count": 4,
   "metadata": {},
   "outputs": [],
   "source": [
    "import numpy as np\n",
    "import pandas as pd"
   ]
  },
  {
   "cell_type": "code",
   "execution_count": 5,
   "metadata": {},
   "outputs": [],
   "source": [
    "dti = pd.date_range(start='2015-01-01', end='2015-12-31', freq='B') \n",
    "s = pd.Series(np.random.rand(len(dti)), index=dti)"
   ]
  },
  {
   "cell_type": "code",
   "execution_count": 6,
   "metadata": {},
   "outputs": [
    {
     "data": {
      "text/plain": [
       "2015-01-01    0.578304\n",
       "2015-01-02    0.474711\n",
       "2015-01-05    0.352428\n",
       "2015-01-06    0.672549\n",
       "2015-01-07    0.385448\n",
       "2015-01-08    0.944521\n",
       "2015-01-09    0.226912\n",
       "2015-01-12    0.877987\n",
       "2015-01-13    0.750883\n",
       "2015-01-14    0.161656\n",
       "2015-01-15    0.074620\n",
       "2015-01-16    0.000639\n",
       "2015-01-19    0.728619\n",
       "2015-01-20    0.517288\n",
       "2015-01-21    0.361109\n",
       "2015-01-22    0.072299\n",
       "2015-01-23    0.689502\n",
       "2015-01-26    0.147950\n",
       "2015-01-27    0.840306\n",
       "2015-01-28    0.366103\n",
       "2015-01-29    0.409795\n",
       "2015-01-30    0.177353\n",
       "2015-02-02    0.985228\n",
       "2015-02-03    0.261706\n",
       "2015-02-04    0.635003\n",
       "2015-02-05    0.439681\n",
       "2015-02-06    0.343228\n",
       "2015-02-09    0.688735\n",
       "2015-02-10    0.055517\n",
       "2015-02-11    0.433089\n",
       "                ...   \n",
       "2015-11-20    0.270089\n",
       "2015-11-23    0.691488\n",
       "2015-11-24    0.053849\n",
       "2015-11-25    0.285718\n",
       "2015-11-26    0.391411\n",
       "2015-11-27    0.429200\n",
       "2015-11-30    0.041535\n",
       "2015-12-01    0.304072\n",
       "2015-12-02    0.615614\n",
       "2015-12-03    0.172426\n",
       "2015-12-04    0.195834\n",
       "2015-12-07    0.706750\n",
       "2015-12-08    0.911753\n",
       "2015-12-09    0.001346\n",
       "2015-12-10    0.329421\n",
       "2015-12-11    0.709193\n",
       "2015-12-14    0.101939\n",
       "2015-12-15    0.127031\n",
       "2015-12-16    0.276893\n",
       "2015-12-17    0.170455\n",
       "2015-12-18    0.928121\n",
       "2015-12-21    0.791798\n",
       "2015-12-22    0.311766\n",
       "2015-12-23    0.627443\n",
       "2015-12-24    0.129551\n",
       "2015-12-25    0.426231\n",
       "2015-12-28    0.722557\n",
       "2015-12-29    0.549010\n",
       "2015-12-30    0.611218\n",
       "2015-12-31    0.314262\n",
       "Freq: B, Length: 261, dtype: float64"
      ]
     },
     "execution_count": 6,
     "metadata": {},
     "output_type": "execute_result"
    }
   ],
   "source": [
    "s"
   ]
  },
  {
   "cell_type": "code",
   "execution_count": null,
   "metadata": {},
   "outputs": [],
   "source": []
  }
 ],
 "metadata": {
  "kernelspec": {
   "display_name": "Python 3",
   "language": "python",
   "name": "python3"
  },
  "language_info": {
   "codemirror_mode": {
    "name": "ipython",
    "version": 3
   },
   "file_extension": ".py",
   "mimetype": "text/x-python",
   "name": "python",
   "nbconvert_exporter": "python",
   "pygments_lexer": "ipython3",
   "version": "3.6.6"
  }
 },
 "nbformat": 4,
 "nbformat_minor": 2
}
